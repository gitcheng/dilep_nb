{
 "metadata": {
  "name": "testsave"
 }, 
 "nbformat": 2, 
 "worksheets": [
  {
   "cells": [
    {
     "cell_type": "code", 
     "collapsed": true, 
     "input": [
      "from root_numpy import *"
     ], 
     "language": "python", 
     "outputs": [], 
     "prompt_number": 1
    }, 
    {
     "cell_type": "code", 
     "collapsed": true, 
     "input": [
      "T= root2rec('ntuple/V4/sprvars-spr3/sprVars_OffPeak_Run2-nn7dt.root','tr')"
     ], 
     "language": "python", 
     "outputs": [], 
     "prompt_number": 2
    }, 
    {
     "cell_type": "code", 
     "collapsed": true, 
     "input": [
      "np.save('testnpsave.npy',T)"
     ], 
     "language": "python", 
     "outputs": [], 
     "prompt_number": 3
    }, 
    {
     "cell_type": "code", 
     "collapsed": true, 
     "input": [
      "np.savez('testnpsave',T)"
     ], 
     "language": "python", 
     "outputs": [], 
     "prompt_number": 4
    }, 
    {
     "cell_type": "code", 
     "collapsed": false, 
     "input": [
      "dict = {'x': T}", 
      "np.savez('testnpsavez', **dict)"
     ], 
     "language": "python", 
     "outputs": [], 
     "prompt_number": 9
    }, 
    {
     "cell_type": "code", 
     "collapsed": false, 
     "input": [
      "d = np.load('testnpsavez.npz')", 
      "print d", 
      "print d.files"
     ], 
     "language": "python", 
     "outputs": [
      {
       "output_type": "stream", 
       "stream": "stdout", 
       "text": [
        "&lt;numpy.lib.npyio.NpzFile object at 0x1098b1c90&gt;", 
        "[&apos;x&apos;]"
       ]
      }
     ], 
     "prompt_number": 10
    }, 
    {
     "cell_type": "code", 
     "collapsed": false, 
     "input": [
      "d['x']"
     ], 
     "language": "python", 
     "outputs": [
      {
       "output_type": "pyout", 
       "prompt_number": 11, 
       "text": [
        "array([ (0.7415403723716736, 0.617630660533905, 0.8245444297790527, 6.5309553146362305, 0.8501689434051514, 0.24103493988513947, -0.8443143963813782, -1, False, True, False, False, True, 0.07669392228126526),", 
        "       (1.4228971004486084, 0.9457470774650574, -5.359919548034668, 2.5998058319091797, 0.856914758682251, 0.29205480217933655, 0.6409920454025269, -1, False, False, True, False, False, 0.6395939588546753),", 
        "       (1.0088224411010742, 0.8953823447227478, -0.33987393975257874, 0.10543708503246307, 0.8350886106491089, 0.2673417627811432, -0.4935626685619354, -1, True, False, False, False, False, 0.00498545914888382),", 
        "       ...,", 
        "       (1.335900902748108, 1.0829414129257202, 0.7041125297546387, 2.2558560371398926, 0.7950916886329651, 0.3477676212787628, -0.9498814344406128, -1, False, False, True, False, False, 0.10020531713962555),", 
        "       (1.4626545906066895, 0.6628655195236206, 3.2371325492858887, 1.4101840257644653, 0.7030754685401917, 0.3930468261241913, -0.5242148637771606, -1, False, False, True, False, False, 0.09913390874862671),", 
        "       (1.3414746522903442, 1.2483632564544678, -2.0962650775909424, -0.2374805361032486, 0.8236607909202576, 0.276580810546875, -0.9391500949859619, -1, False, True, False, False, False, 0.05591493844985962)], ", 
        "      dtype=[(&apos;p1cm&apos;, &apos;&lt;f4&apos;), (&apos;p2cm&apos;, &apos;&lt;f4&apos;), (&apos;deltaT1&apos;, &apos;&lt;f4&apos;), (&apos;emiss&apos;, &apos;&lt;f4&apos;), (&apos;thrust&apos;, &apos;&lt;f4&apos;), (&apos;sph&apos;, &apos;&lt;f4&apos;), (&apos;costh12&apos;, &apos;&lt;f4&apos;), (&apos;evttype&apos;, &apos;&lt;i4&apos;), (&apos;ee&apos;, &apos;|b1&apos;), (&apos;mm&apos;, &apos;|b1&apos;), (&apos;em&apos;, &apos;|b1&apos;), (&apos;me&apos;, &apos;|b1&apos;), (&apos;samesign&apos;, &apos;|b1&apos;), (&apos;nn7dt&apos;, &apos;&lt;f4&apos;)])"
       ]
      }
     ], 
     "prompt_number": 11
    }, 
    {
     "cell_type": "code", 
     "collapsed": true, 
     "input": [], 
     "language": "python", 
     "outputs": [], 
     "prompt_number": "&nbsp;"
    }
   ]
  }
 ]
}