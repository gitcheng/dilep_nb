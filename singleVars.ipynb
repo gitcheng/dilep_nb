{
 "metadata": {
  "name": "singleVars"
 },
 "nbformat": 3,
 "nbformat_minor": 0,
 "worksheets": [
  {
   "cells": [
    {
     "cell_type": "heading",
     "level": 1,
     "metadata": {},
     "source": [
      "Produce single lepton reduced variable data from ntuple production"
     ]
    },
    {
     "cell_type": "raw",
     "metadata": {},
     "source": [
      "single lepton tuple vars:\n",
      "\n",
      "Select VeryTight lepton, get the highest momentum lepton,\n",
      "\n",
      "pcm, plab, thetalab, philab, nTrks, thrust, R2, etotal, mixed_or_not, lepton_flavor, lepton_charge, right_tag, real_track_flavor, lumi_weight, total_weight"
     ]
    },
    {
     "cell_type": "code",
     "collapsed": false,
     "input": [
      "import numpy as np\n",
      "import matplotlib.pyplot as plt\n",
      "from root_numpy import *"
     ],
     "language": "python",
     "metadata": {},
     "outputs": [],
     "prompt_number": 35
    },
    {
     "cell_type": "code",
     "collapsed": false,
     "input": [
      "data = root2rec('ntuple/V5/SJM_SP1237_Run1_R24f_Single/0/1/SJM_SP1237_Run1_R24f_Single-1.root', 'ntp1')\n",
      "data.dtype"
     ],
     "language": "python",
     "metadata": {},
     "outputs": [
      {
       "output_type": "pyout",
       "prompt_number": 36,
       "text": [
        "dtype([('runNumber', '<i4'), ('platform', '<i4'), ('partition', '<i4'), ('upperID', '<i4'), ('lowerID', '<i4'), ('majorID', '<i4'), ('configKey', '<i4'), ('date', '<i4'), ('ddate', '<i4'), ('eePx', '<f4'), ('eePy', '<f4'), ('eePz', '<f4'), ('eeE', '<f4'), ('eventCandPidListCM_px', '<f4'), ('eventCandPidListCM_py', '<f4'), ('eventCandPidListCM_pz', '<f4'), ('eventCandPidListCM_e', '<f4'), ('nTracks', '<i4'), ('p1Mag', '<f4'), ('p2Mag', '<f4'), ('R2All', '<f4'), ('thrustMag', '<f4'), ('thrustMagAll', '<f4'), ('sphericityAll', '<f4'), ('mcLen', '<i4'), ('mcLund', '|O8'), ('mothIdx', '|O8'), ('dauLen', '|O8'), ('dauIdx', '|O8'), ('mcp3', '|O8'), ('mccosth', '|O8'), ('mcphi', '|O8'), ('mcenergy', '|O8'), ('nem', '<i4'), ('emDocaXY', '|O8'), ('emDocaXY_Err', '|O8'), ('emDocaXY_z', '|O8'), ('emDocaXY_zErr', '|O8'), ('emcosth', '|O8'), ('emcosthCM', '|O8'), ('emenergy', '|O8'), ('emenergyCM', '|O8'), ('emp3', '|O8'), ('emp3CM', '|O8'), ('emphi', '|O8'), ('emphiCM', '|O8'), ('emLund', '|O8'), ('emMCIdx', '|O8'), ('emCloneOfDilEEveto', '|O8'), ('emCloneOfDilPsiMMList', '|O8'), ('emTrkIdx', '|O8'), ('nTRK', '<i4'), ('TRKLund', '|O8'), ('TRKnHitXY', '|O8'), ('TRKnHitZ', '|O8'), ('TRKnSvtXY', '|O8'), ('TRKnSvtZ', '|O8'), ('TRKsvtViewXY1', '|O8'), ('TRKsvtViewXY2', '|O8'), ('TRKsvtViewXY3', '|O8'), ('TRKsvtViewXY4', '|O8'), ('TRKsvtViewXY5', '|O8'), ('TRKsvtViewZ1', '|O8'), ('TRKsvtViewZ2', '|O8'), ('TRKsvtViewZ3', '|O8'), ('TRKsvtViewZ4', '|O8'), ('TRKsvtViewZ5', '|O8'), ('muSelectorsMap', '|O8'), ('eSelectorsMap', '|O8'), ('TracksMap', '|O8')])"
       ]
      }
     ],
     "prompt_number": 36
    },
    {
     "cell_type": "code",
     "collapsed": false,
     "input": [
      "print data.nTracks, data.TRKsvtViewXY1, len(data.nTracks)"
     ],
     "language": "python",
     "metadata": {},
     "outputs": [
      {
       "output_type": "stream",
       "stream": "stdout",
       "text": [
        "[ 9 11 11 ..., 10  8  9] [[1] [1] [1] ..., [1] [1] [1]] 74026\n"
       ]
      }
     ],
     "prompt_number": 39
    },
    {
     "cell_type": "code",
     "collapsed": false,
     "input": [
      "event= data[1]\n",
      "print event.dtype\n",
      "print event['nem']"
     ],
     "language": "python",
     "metadata": {},
     "outputs": [
      {
       "output_type": "stream",
       "stream": "stdout",
       "text": [
        "[('runNumber', '<i4'), ('platform', '<i4'), ('partition', '<i4'), ('upperID', '<i4'), ('lowerID', '<i4'), ('majorID', '<i4'), ('configKey', '<i4'), ('date', '<i4'), ('ddate', '<i4'), ('eePx', '<f4'), ('eePy', '<f4'), ('eePz', '<f4'), ('eeE', '<f4'), ('eventCandPidListCM_px', '<f4'), ('eventCandPidListCM_py', '<f4'), ('eventCandPidListCM_pz', '<f4'), ('eventCandPidListCM_e', '<f4'), ('nTracks', '<i4'), ('p1Mag', '<f4'), ('p2Mag', '<f4'), ('R2All', '<f4'), ('thrustMag', '<f4'), ('thrustMagAll', '<f4'), ('sphericityAll', '<f4'), ('mcLen', '<i4'), ('mcLund', '|O8'), ('mothIdx', '|O8'), ('dauLen', '|O8'), ('dauIdx', '|O8'), ('mcp3', '|O8'), ('mccosth', '|O8'), ('mcphi', '|O8'), ('mcenergy', '|O8'), ('nem', '<i4'), ('emDocaXY', '|O8'), ('emDocaXY_Err', '|O8'), ('emDocaXY_z', '|O8'), ('emDocaXY_zErr', '|O8'), ('emcosth', '|O8'), ('emcosthCM', '|O8'), ('emenergy', '|O8'), ('emenergyCM', '|O8'), ('emp3', '|O8'), ('emp3CM', '|O8'), ('emphi', '|O8'), ('emphiCM', '|O8'), ('emLund', '|O8'), ('emMCIdx', '|O8'), ('emCloneOfDilEEveto', '|O8'), ('emCloneOfDilPsiMMList', '|O8'), ('emTrkIdx', '|O8'), ('nTRK', '<i4'), ('TRKLund', '|O8'), ('TRKnHitXY', '|O8'), ('TRKnHitZ', '|O8'), ('TRKnSvtXY', '|O8'), ('TRKnSvtZ', '|O8'), ('TRKsvtViewXY1', '|O8'), ('TRKsvtViewXY2', '|O8'), ('TRKsvtViewXY3', '|O8'), ('TRKsvtViewXY4', '|O8'), ('TRKsvtViewXY5', '|O8'), ('TRKsvtViewZ1', '|O8'), ('TRKsvtViewZ2', '|O8'), ('TRKsvtViewZ3', '|O8'), ('TRKsvtViewZ4', '|O8'), ('TRKsvtViewZ5', '|O8'), ('muSelectorsMap', '|O8'), ('eSelectorsMap', '|O8'), ('TracksMap', '|O8')]\n",
        "1\n"
       ]
      }
     ],
     "prompt_number": 71
    },
    {
     "cell_type": "code",
     "collapsed": false,
     "input": [
      "# output data\n",
      "mydtype= [('pcm','f8'), ('plab','f8'), ('nTracks','i2'), ('trust','f8'), ('R2','f8'), ('etotal','f8'),\n",
      "    ('mixed',bool), ('lepflav','i2'), ('true_lepflav','i4'), ('right_tag','i1'), ('wlumi', 'f8'), ('weight', 'f8')])\n",
      "\n",
      "\n",
      "output= np.array([], dtype=[('pcm','f8'), ('plab','f8'), ('nTracks','i2'), ('trust','f8'), ('R2','f8'), ('etotal','f8'),\n",
      "    ('mixed',bool), ('lepflav','i2'), ('true_lepflav','i4'), ('right_tag','i1'), ('wlumi', 'f8'), ('weight', 'f8')])\n",
      "print output.dtype"
     ],
     "language": "python",
     "metadata": {},
     "outputs": [
      {
       "ename": "SyntaxError",
       "evalue": "invalid syntax (<ipython-input-125-dad0af165039>, line 3)",
       "output_type": "pyerr",
       "traceback": [
        "\u001b[0;36m  File \u001b[0;32m\"<ipython-input-125-dad0af165039>\"\u001b[0;36m, line \u001b[0;32m3\u001b[0m\n\u001b[0;31m    ('mixed',bool), ('lepflav','i2'), ('true_lepflav','i4'), ('right_tag','i1'), ('wlumi', 'f8'), ('weight', 'f8')])\u001b[0m\n\u001b[0m                                                                                                                   ^\u001b[0m\n\u001b[0;31mSyntaxError\u001b[0m\u001b[0;31m:\u001b[0m invalid syntax\n"
       ]
      }
     ],
     "prompt_number": 125
    },
    {
     "cell_type": "code",
     "collapsed": false,
     "input": [
      "output.resize(4)\n",
      "output[1]['flav']=\n",
      "print output"
     ],
     "language": "python",
     "metadata": {},
     "outputs": [
      {
       "output_type": "stream",
       "stream": "stdout",
       "text": [
        "[(0.0, 0.0, 0, 0.0, 0.0, 0.0, False, 0)\n",
        " (0.0, 0.0, 0, 0.0, 0.0, 0.0, False, 16960)\n",
        " (0.0, 0.0, 0, 0.0, 0.0, 0.0, False, 0)\n",
        " (0.0, 0.0, 0, 0.0, 0.0, 0.0, False, 0)]\n"
       ]
      }
     ],
     "prompt_number": 28
    },
    {
     "cell_type": "code",
     "collapsed": false,
     "input": [
      "for i in xrange(10):\n",
      "    for j in xrange(data.nem[i]):\n",
      "        print i, j, data.emp3CM[i][j]"
     ],
     "language": "python",
     "metadata": {},
     "outputs": [
      {
       "output_type": "stream",
       "stream": "stdout",
       "text": [
        " 0 0 1.10054\n",
        "1 0 0.702824\n",
        "2 0 1.39365\n",
        "3 0 1.62401\n",
        "4 0 1.45228\n",
        "5 0 1.24714\n",
        "6 0 0.660619\n",
        "7 0 1.21866\n",
        "7 1 0.687701\n",
        "8 0 0.947621\n",
        "9 0 1.45047\n"
       ]
      }
     ],
     "prompt_number": 9
    }
   ],
   "metadata": {}
  }
 ]
}