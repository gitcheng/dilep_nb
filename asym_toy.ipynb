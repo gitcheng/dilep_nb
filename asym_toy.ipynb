{
 "metadata": {
  "name": "asym_toy"
 },
 "nbformat": 3,
 "nbformat_minor": 0,
 "worksheets": [
  {
   "cells": [
    {
     "cell_type": "code",
     "collapsed": false,
     "input": [
      "from RTMinuit import *\n",
      "np= numpy"
     ],
     "language": "python",
     "metadata": {},
     "outputs": [],
     "prompt_number": 1
    },
    {
     "cell_type": "code",
     "collapsed": false,
     "input": [
      "d= np.array([1,2,3,4])\n",
      "if d.shape!= (4,):\n",
      "    raise ValueError('Input data must be in shape (4,)')\n",
      "print (d**2).sum()"
     ],
     "language": "python",
     "metadata": {},
     "outputs": [
      {
       "output_type": "stream",
       "stream": "stdout",
       "text": [
        "30\n"
       ]
      }
     ],
     "prompt_number": 11
    },
    {
     "cell_type": "code",
     "collapsed": false,
     "input": [
      "# Class for calculating chi-square given data and parameters.\n",
      "#  Paramaters : Acp, ae1, ae2, am1, am2, chi_d, r_B, Nee, Nem, Nme, Nmm \n",
      "#  Data : 16 signal yields\n",
      "class FCN:\n",
      "    def __init__(self, data, errors):\n",
      "        self.y = data    # an array of 16 numbers\n",
      "        self.e = errors  \n",
      "        if self.y.shape != (16,) or self.e.shape!=(16,):\n",
      "            raise ValueError('Input data must be in shape (16,)')\n",
      "\n",
      "    def expected(self, Acp, ae1, ae2, am1, am2, chi_d, r_B, Nee, Nem, Nme, Nmm):\n",
      "        ppee = 0.5 * Nee *(1+ae1)*(1+ae2)*(1+Acp)* chi_d\n",
      "        ppem = 0.5 * Nem *(1+ae1)*(1+am2)*(1+Acp)* chi_d\n",
      "        ppme = 0.5 * Nme *(1+am1)*(1+ae2)*(1+Acp)* chi_d\n",
      "        ppmm = 0.5 * Nmm *(1+am1)*(1+am2)*(1+Acp)* chi_d\n",
      "\n",
      "        pnee = 0.5 * Nee *(1+ae1)*(1-ae2)*(1+r_B-chi_d)\n",
      "        pnem = 0.5 * Nem *(1+ae1)*(1-am2)*(1+r_B-chi_d)\n",
      "        pnme = 0.5 * Nme *(1+am1)*(1-ae2)*(1+r_B-chi_d)\n",
      "        pnmm = 0.5 * Nmm *(1+am1)*(1-am2)*(1+r_B-chi_d)\n",
      "\n",
      "        nnee = 0.5 * Nee *(1-ae1)*(1-ae2)*(1-Acp)* chi_d\n",
      "        nnem = 0.5 * Nem *(1-ae1)*(1-am2)*(1-Acp)* chi_d\n",
      "        nnme = 0.5 * Nme *(1-am1)*(1-ae2)*(1-Acp)* chi_d\n",
      "        nnmm = 0.5 * Nmm *(1-am1)*(1-am2)*(1-Acp)* chi_d\n",
      "\n",
      "        npee = 0.5 * Nee *(1-ae1)*(1+ae2)*(1+r_B-chi_d)\n",
      "        npem = 0.5 * Nem *(1-ae1)*(1+am2)*(1+r_B-chi_d)\n",
      "        npme = 0.5 * Nme *(1-am1)*(1+ae2)*(1+r_B-chi_d)\n",
      "        npmm = 0.5 * Nmm *(1-am1)*(1+am2)*(1+r_B-chi_d)\n",
      "        \n",
      "        return np.array([nnee,nnem,nnme,nnmm, npee,npem,npme,npmm, pnee,pnem,pnme,pnmm, ppee,ppem,ppme,ppmm])\n",
      "\n",
      "    \n",
      "    def __call__(self, Acp, ae1, ae2, am1, am2, chi_d, r_B, Nee, Nem, Nme, Nmm):\n",
      "        my_exp= self.expected(Acp, ae1, ae2, am1, am2, chi_d, r_B, Nee, Nem, Nme, Nmm)\n",
      "        chi2 = (((self.y - my_exp)/self.e)**2).sum()\n",
      "        return chi2\n",
      "        "
     ],
     "language": "python",
     "metadata": {},
     "outputs": [],
     "prompt_number": 15
    },
    {
     "cell_type": "code",
     "collapsed": false,
     "input": [
      "a= np.array([1,2,3])\n",
      "b= np.array([0,1,1])\n",
      "f= FCN( a )\n",
      "m= Minuit(f, p1=5, fix_p1=True)\n",
      "m.migrad()\n",
      "print m.fix_param\n",
      "print m.values, m.errors"
     ],
     "language": "python",
     "metadata": {},
     "outputs": [
      {
       "output_type": "stream",
       "stream": "stdout",
       "text": [
        "['p1']\n",
        "{'p2': 1.999999999089988, 'p3': 3.000000000125265, 'p1': 5.0} {'p2': 0.999999999772468, 'p3': 1.0000000000208313, 'p1': 0.0}\n"
       ]
      }
     ],
     "prompt_number": 33
    },
    {
     "cell_type": "code",
     "collapsed": false,
     "input": [
      "m.free_param"
     ],
     "language": "python",
     "metadata": {},
     "outputs": [
      {
       "output_type": "pyout",
       "prompt_number": 29,
       "text": [
        "['p1', 'p2', 'p3']"
       ]
      }
     ],
     "prompt_number": 29
    },
    {
     "cell_type": "code",
     "collapsed": false,
     "input": [
      "a= np.arange(16)\n",
      "print a\n",
      "b= np.reshape(a, (2,2,2,2))\n",
      "print b.shape\n",
      "print b"
     ],
     "language": "python",
     "metadata": {},
     "outputs": [
      {
       "output_type": "stream",
       "stream": "stdout",
       "text": [
        "[ 0  1  2  3  4  5  6  7  8  9 10 11 12 13 14 15]\n",
        "(2, 2, 2, 2)\n",
        "[[[[ 0  1]\n",
        "   [ 2  3]]\n",
        "\n",
        "  [[ 4  5]\n",
        "   [ 6  7]]]\n",
        "\n",
        "\n",
        " [[[ 8  9]\n",
        "   [10 11]]\n",
        "\n",
        "  [[12 13]\n",
        "   [14 15]]]]\n"
       ]
      }
     ],
     "prompt_number": 42
    },
    {
     "cell_type": "code",
     "collapsed": false,
     "input": [
      "b[1][0][1][1]"
     ],
     "language": "python",
     "metadata": {},
     "outputs": [
      {
       "output_type": "pyout",
       "prompt_number": 46,
       "text": [
        "11"
       ]
      }
     ],
     "prompt_number": 46
    },
    {
     "cell_type": "code",
     "collapsed": false,
     "input": [
      "x= 11\n",
      "while ( x > 0 ):\n",
      "    y = x >> 1\n",
      "    print x-y*2\n",
      "    x=y"
     ],
     "language": "python",
     "metadata": {},
     "outputs": [
      {
       "output_type": "stream",
       "stream": "stdout",
       "text": [
        "1\n",
        "1\n",
        "0\n",
        "1\n"
       ]
      }
     ],
     "prompt_number": 51
    },
    {
     "cell_type": "code",
     "collapsed": false,
     "input": [
      "a= ['a','c','b']\n",
      "for k in sorted(a):\n",
      "    print k"
     ],
     "language": "python",
     "metadata": {},
     "outputs": [
      {
       "output_type": "stream",
       "stream": "stdout",
       "text": [
        "a\n",
        "b\n",
        "c\n"
       ]
      }
     ],
     "prompt_number": 16
    },
    {
     "cell_type": "code",
     "collapsed": false,
     "input": [
      "print '%9.0f%4d' % (10, 20.0)"
     ],
     "language": "python",
     "metadata": {},
     "outputs": [
      {
       "output_type": "stream",
       "stream": "stdout",
       "text": [
        "       10  20\n"
       ]
      }
     ],
     "prompt_number": 25
    },
    {
     "cell_type": "code",
     "collapsed": false,
     "input": [
      "keys=[]\n",
      "keys.append('a')\n",
      "keys.append('b')\n",
      "print keys"
     ],
     "language": "python",
     "metadata": {},
     "outputs": [
      {
       "output_type": "stream",
       "stream": "stdout",
       "text": [
        "['a', 'b']\n"
       ]
      }
     ],
     "prompt_number": 27
    },
    {
     "cell_type": "code",
     "collapsed": false,
     "input": [
      "ax= np.zeros(3, dtype=[('a','f4'),('b','f4')])\n",
      "print ax\n",
      "print ax.dtype"
     ],
     "language": "python",
     "metadata": {},
     "outputs": [
      {
       "output_type": "stream",
       "stream": "stdout",
       "text": [
        "[(0.0, 0.0) (0.0, 0.0) (0.0, 0.0)]\n",
        "[('a', '<f4'), ('b', '<f4')]\n"
       ]
      }
     ],
     "prompt_number": 36
    },
    {
     "cell_type": "code",
     "collapsed": false,
     "input": [
      "x= np.zeros(3)\n",
      "y= x.copy()\n",
      "x[1]=3\n",
      "print y"
     ],
     "language": "python",
     "metadata": {},
     "outputs": [
      {
       "output_type": "stream",
       "stream": "stdout",
       "text": [
        "[ 0.  0.  0.]\n"
       ]
      }
     ],
     "prompt_number": 33
    },
    {
     "cell_type": "code",
     "collapsed": false,
     "input": [
      "d= np.load('bootstrap_acp.npy')"
     ],
     "language": "python",
     "metadata": {},
     "outputs": [],
     "prompt_number": 44
    },
    {
     "cell_type": "code",
     "collapsed": false,
     "input": [
      "import matplotlib.pyplot as plt"
     ],
     "language": "python",
     "metadata": {},
     "outputs": [],
     "prompt_number": 43
    },
    {
     "cell_type": "code",
     "collapsed": false,
     "input": [
      "hist= plt.hist(d['Acp'], bins=20)"
     ],
     "language": "python",
     "metadata": {},
     "outputs": [
      {
       "output_type": "display_data",
       "png": "[encoded data removed]"
      }
     ],
     "prompt_number": 47
    },
    {
     "cell_type": "code",
     "collapsed": false,
     "input": [],
     "language": "python",
     "metadata": {},
     "outputs": []
    }
   ],
   "metadata": {}
  }
 ]
}