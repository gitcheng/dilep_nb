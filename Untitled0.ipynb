{
 "metadata": {
  "name": "Untitled0"
 },
 "nbformat": 3,
 "nbformat_minor": 0,
 "worksheets": [
  {
   "cells": [
    {
     "cell_type": "code",
     "collapsed": true,
     "input": [
      "import numpy.lib.recfunctions as rf\n",
      "import numpy as np"
     ],
     "language": "python",
     "metadata": {},
     "outputs": [],
     "prompt_number": 63
    },
    {
     "cell_type": "code",
     "collapsed": false,
     "input": [
      "display(zeros(3))"
     ],
     "language": "python",
     "metadata": {},
     "outputs": [
      {
       "output_type": "display_data",
       "text": [
        "array([ 0.,  0.,  0.])"
       ]
      }
     ],
     "prompt_number": 64
    },
    {
     "cell_type": "code",
     "collapsed": false,
     "input": [
      "#x= np.array([1,2,5,4,3])\n",
      "x= np.arange(10)+1\n",
      "print x\n",
      "print x.searchsorted(10)"
     ],
     "language": "python",
     "metadata": {},
     "outputs": [
      {
       "output_type": "stream",
       "stream": "stdout",
       "text": [
        "[ 1  2  3  4  5  6  7  8  9 10]\n",
        "9\n"
       ]
      }
     ],
     "prompt_number": 65
    },
    {
     "cell_type": "code",
     "collapsed": false,
     "input": [
      "a = np.array([(1.0, 2), (3.0, 4)], dtype=[('x',float), ('y', int)])\n",
      "print a\n",
      "b = rf.append_fields(a,'z',(1,2,3),dtypes=np.float)\n",
      "print b\n",
      "print b['z']\n",
      "a"
     ],
     "language": "python",
     "metadata": {},
     "outputs": [
      {
       "output_type": "stream",
       "stream": "stdout",
       "text": [
        "[(1.0, 2) (3.0, 4)]\n",
        "[(1.0, 2, 1.0) (3.0, 4, 2.0) (--, --, 3.0)]\n",
        "[1.0 2.0 3.0]\n"
       ]
      },
      {
       "output_type": "pyout",
       "prompt_number": 66,
       "text": [
        "array([(1.0, 2), (3.0, 4)], \n",
        "      dtype=[('x', '<f8'), ('y', '<i8')])"
       ]
      }
     ],
     "prompt_number": 66
    },
    {
     "cell_type": "code",
     "collapsed": false,
     "input": [
      "b= rf.append_fields(a,'z',a['x']+a['y'])\n",
      "print b"
     ],
     "language": "python",
     "metadata": {},
     "outputs": [
      {
       "output_type": "stream",
       "stream": "stdout",
       "text": [
        "[(1.0, 2, 3.0) (3.0, 4, 7.0)]\n"
       ]
      }
     ],
     "prompt_number": 67
    },
    {
     "cell_type": "code",
     "collapsed": false,
     "input": [
      "c = np.array([(5.0, 7), (6.0, 8)], dtype=[('x',float), ('y', int)])\n",
      "c"
     ],
     "language": "python",
     "metadata": {},
     "outputs": [
      {
       "output_type": "pyout",
       "prompt_number": 68,
       "text": [
        "array([(5.0, 7), (6.0, 8)], \n",
        "      dtype=[('x', '<f8'), ('y', '<i8')])"
       ]
      }
     ],
     "prompt_number": 68
    },
    {
     "cell_type": "code",
     "collapsed": false,
     "input": [
      "np.concatenate((a,c))"
     ],
     "language": "python",
     "metadata": {},
     "outputs": [
      {
       "output_type": "pyout",
       "prompt_number": 69,
       "text": [
        "array([(1.0, 2), (3.0, 4), (5.0, 7), (6.0, 8)], \n",
        "      dtype=[('x', '<f8'), ('y', '<i8')])"
       ]
      }
     ],
     "prompt_number": 69
    },
    {
     "cell_type": "code",
     "collapsed": false,
     "input": [
      "a= np.concatenate((a, np.array([(5.0, 7), (6.0, 8)], dtype=[('x',float), ('y', int)])))\n",
      "a"
     ],
     "language": "python",
     "metadata": {},
     "outputs": [
      {
       "output_type": "pyout",
       "prompt_number": 70,
       "text": [
        "array([(1.0, 2), (3.0, 4), (5.0, 7), (6.0, 8)], \n",
        "      dtype=[('x', '<f8'), ('y', '<i8')])"
       ]
      }
     ],
     "prompt_number": 70
    },
    {
     "cell_type": "code",
     "collapsed": false,
     "input": [
      "d = np.array([(1,2)], dtype=[('x',float), ('y', int)])\n",
      "d"
     ],
     "language": "python",
     "metadata": {},
     "outputs": [
      {
       "output_type": "pyout",
       "prompt_number": 71,
       "text": [
        "array([(1.0, 2)], \n",
        "      dtype=[('x', '<f8'), ('y', '<i8')])"
       ]
      }
     ],
     "prompt_number": 71
    },
    {
     "cell_type": "code",
     "collapsed": false,
     "input": [
      "d = np.resize(d, 10)\n",
      "d"
     ],
     "language": "python",
     "metadata": {},
     "outputs": [
      {
       "output_type": "pyout",
       "prompt_number": 72,
       "text": [
        "array([(1.0, 2), (1.0, 2), (1.0, 2), (1.0, 2), (1.0, 2), (1.0, 2),\n",
        "       (1.0, 2), (1.0, 2), (1.0, 2), (1.0, 2)], \n",
        "      dtype=[('x', '<f8'), ('y', '<i8')])"
       ]
      }
     ],
     "prompt_number": 72
    },
    {
     "cell_type": "code",
     "collapsed": false,
     "input": [
      "print a\n",
      "myidx= np.array([True, False, True, False])\n",
      "a[myidx]"
     ],
     "language": "python",
     "metadata": {},
     "outputs": [
      {
       "output_type": "stream",
       "stream": "stdout",
       "text": [
        "[(1.0, 2) (3.0, 4) (5.0, 7) (6.0, 8)]\n"
       ]
      },
      {
       "output_type": "pyout",
       "prompt_number": 73,
       "text": [
        "array([(1.0, 2), (5.0, 7)], \n",
        "      dtype=[('x', '<f8'), ('y', '<i8')])"
       ]
      }
     ],
     "prompt_number": 73
    },
    {
     "cell_type": "code",
     "collapsed": false,
     "input": [
      "(a['x']<4)|(a['y']>7)"
     ],
     "language": "python",
     "metadata": {},
     "outputs": [
      {
       "output_type": "pyout",
       "prompt_number": 74,
       "text": [
        "array([ True,  True, False,  True], dtype=bool)"
       ]
      }
     ],
     "prompt_number": 74
    },
    {
     "cell_type": "code",
     "collapsed": false,
     "input": [
      "a= np.array([(1.0,True)], dtype=[('x',float),('y',bool)])\n",
      "a"
     ],
     "language": "python",
     "metadata": {},
     "outputs": [
      {
       "output_type": "pyout",
       "prompt_number": 75,
       "text": [
        "array([(1.0, True)], \n",
        "      dtype=[('x', '<f8'), ('y', '|b1')])"
       ]
      }
     ],
     "prompt_number": 75
    },
    {
     "cell_type": "code",
     "collapsed": false,
     "input": [
      "np.array([True]*4)"
     ],
     "language": "python",
     "metadata": {},
     "outputs": [
      {
       "output_type": "pyout",
       "prompt_number": 76,
       "text": [
        "array([ True,  True,  True,  True], dtype=bool)"
       ]
      }
     ],
     "prompt_number": 76
    },
    {
     "cell_type": "code",
     "collapsed": false,
     "input": [
      "a2= np.array([(1.0, 2), (3.0, 4)], dtype=[('x',float), ('y', int)])\n",
      "a3 = rf.append_fields(a2, 'z', a2['x']+a2['y'])\n",
      "a3"
     ],
     "language": "python",
     "metadata": {},
     "outputs": [
      {
       "output_type": "pyout",
       "prompt_number": 77,
       "text": [
        "masked_array(data = [(1.0, 2, 3.0) (3.0, 4, 7.0)],\n",
        "             mask = [(False, False, False) (False, False, False)],\n",
        "       fill_value = (1e+20, 999999, 1e+20),\n",
        "            dtype = [('x', '<f8'), ('y', '<i8'), ('z', '<f8')])\n"
       ]
      }
     ],
     "prompt_number": 77
    },
    {
     "cell_type": "code",
     "collapsed": false,
     "input": [
      "'x' in a3.dtype.names"
     ],
     "language": "python",
     "metadata": {},
     "outputs": [
      {
       "output_type": "pyout",
       "prompt_number": 78,
       "text": [
        "True"
       ]
      }
     ],
     "prompt_number": 78
    },
    {
     "cell_type": "code",
     "collapsed": false,
     "input": [
      "x1= np.arange(5)\n",
      "x2= np.array([3,4,2,1,6])\n",
      "mask = x1*x1<x2\n",
      "print mask\n",
      "print x2[mask]\n",
      "print x2[mask==False]"
     ],
     "language": "python",
     "metadata": {},
     "outputs": [
      {
       "output_type": "stream",
       "stream": "stdout",
       "text": [
        "[ True  True False False False]\n",
        "[3 4]\n",
        "[2 1 6]\n"
       ]
      }
     ],
     "prompt_number": 79
    },
    {
     "cell_type": "code",
     "collapsed": false,
     "input": [
      "rf.drop_fields(a3,['x','y'])"
     ],
     "language": "python",
     "metadata": {},
     "outputs": [
      {
       "output_type": "pyout",
       "prompt_number": 80,
       "text": [
        "array([(3.0,), (7.0,)], \n",
        "      dtype=[('z', '<f8')])"
       ]
      }
     ],
     "prompt_number": 80
    },
    {
     "cell_type": "code",
     "collapsed": false,
     "input": [
      "rf.rename_fields(a3, {'x':'xx'})"
     ],
     "language": "python",
     "metadata": {},
     "outputs": [
      {
       "output_type": "pyout",
       "prompt_number": 81,
       "text": [
        "masked_array(data = [(1.0, 2, 3.0) (3.0, 4, 7.0)],\n",
        "             mask = [(False, False, False) (False, False, False)],\n",
        "       fill_value = (1e+20, 999999, 1e+20),\n",
        "            dtype = [('xx', '<f8'), ('y', '<i8'), ('z', '<f8')])\n"
       ]
      }
     ],
     "prompt_number": 81
    },
    {
     "cell_type": "code",
     "collapsed": false,
     "input": [
      "a3"
     ],
     "language": "python",
     "metadata": {},
     "outputs": [
      {
       "output_type": "pyout",
       "prompt_number": 82,
       "text": [
        "masked_array(data = [(1.0, 2, 3.0) (3.0, 4, 7.0)],\n",
        "             mask = [(False, False, False) (False, False, False)],\n",
        "       fill_value = (1e+20, 999999, 1e+20),\n",
        "            dtype = [('x', '<f8'), ('y', '<i8'), ('z', '<f8')])\n"
       ]
      }
     ],
     "prompt_number": 82
    },
    {
     "cell_type": "code",
     "collapsed": false,
     "input": [
      "s=['a','b','c']\n",
      "t=['a']\n",
      "w=[ x for x in s if not x in t]\n",
      "w"
     ],
     "language": "python",
     "metadata": {},
     "outputs": [
      {
       "output_type": "pyout",
       "prompt_number": 83,
       "text": [
        "['b', 'c']"
       ]
      }
     ],
     "prompt_number": 83
    },
    {
     "cell_type": "code",
     "collapsed": false,
     "input": [
      "[v for v in s if not v in t]"
     ],
     "language": "python",
     "metadata": {},
     "outputs": [
      {
       "output_type": "pyout",
       "prompt_number": 84,
       "text": [
        "['b', 'c']"
       ]
      }
     ],
     "prompt_number": 84
    },
    {
     "cell_type": "code",
     "collapsed": true,
     "input": [
      "import matplotlib.pyplot as plt\n",
      "m=200\n",
      "xo= np.zeros(2*m+1)\n",
      "yo= np.zeros(2*m+1)\n",
      "for i in range(2*m+1):\n",
      "    xo[i]= cos(i*pi/m)\n",
      "    yo[i]= sin(i*pi/m)\n",
      "\n",
      "\n",
      "m=4\n",
      "x= np.zeros(2*m+1)\n",
      "y= np.zeros(2*m+1)\n",
      "for i in range(2*m+1):\n",
      "    x[i]= cos(i*pi/m)\n",
      "    y[i]= sin(i*pi/m)\n",
      "    \n",
      "    \n",
      "    \n",
      "plt.figure(figsize=(6,6), frameon=False, edgecolor='y')\n",
      "plt.plot(xo,yo, 'b--')\n",
      "plt.plot(x,y)\n",
      "plt.plot([x[2],x[6]],[y[2],y[6]])\n",
      "plt.plot([x[0],x[3]],[y[0],y[3]])\n",
      "plt.plot([x[0],x[6]],[y[0],y[6]])\n",
      "plt.plot([0,1],[0,0], '--')\n",
      "plt.plot([x[7],0],[y[7],0],'m--')\n",
      "plt.text(1,0, 'A', fontsize=20)\n",
      "plt.text(1/sqrt(2), 1/sqrt(2), 'B', fontsize=20)\n",
      "plt.text(0,1,'C', fontsize=20)\n",
      "plt.text(-1/sqrt(2), 1/sqrt(2), 'D', fontsize=20)\n",
      "plt.text(0,-1,'E',fontsize=20)\n",
      "plt.text(0, 0.3, 'G', fontsize=20)\n",
      "plt.text(0,0,'O', fontsize=20)\n",
      "plt.text(x[7]+0.05,y[7]-0.05,'F', fontsize=20)\n",
      "plt.text(0.5, -0.5, 'H', fontsize=20)"
     ],
     "language": "python",
     "metadata": {},
     "outputs": [
      {
       "output_type": "pyout",
       "prompt_number": 92,
       "text": [
        "<matplotlib.text.Text at 0x1097c99d0>"
       ]
      },
      {
       "output_type": "display_data",
       "png": "[encoded data removed]"
      }
     ],
     "prompt_number": 92
    },
    {
     "cell_type": "code",
     "collapsed": false,
     "input": [
      "from utilities import *\n",
      "import matplotlib.pyplot as plt"
     ],
     "language": "python",
     "metadata": {},
     "outputs": [],
     "prompt_number": 19
    },
    {
     "cell_type": "code",
     "collapsed": false,
     "input": [
      "def print_wgt(flavor, mode='BB'):\n",
      "    df= 'ntuple/V4/sprvars-reduce/spr_pdg11/histograms/histograms-offgen.npz'\n",
      "    for t in ['sig','bbl','bbf']:\n",
      "        h1= fetch_histogram(df, mode=mode, flavors=[flavor], signs=['pp'], type=t)\n",
      "        h2= fetch_histogram(df, mode=mode, flavors=[flavor], signs=['nn'], type=t)\n",
      "        print h1[1].sum(), h2[1].sum(), (h1[1].sum()-h2[1].sum())/(h1[1].sum()+h2[1].sum())"
     ],
     "language": "python",
     "metadata": {},
     "outputs": [],
     "prompt_number": 20
    },
    {
     "cell_type": "code",
     "collapsed": false,
     "input": [
      "print_wgt('ee')"
     ],
     "language": "python",
     "metadata": {},
     "outputs": [
      {
       "output_type": "stream",
       "stream": "stdout",
       "text": [
        "107680.573243 107912.795188 -0.00107712934901\n",
        "585475.087272"
       ]
      },
      {
       "output_type": "stream",
       "stream": "stdout",
       "text": [
        " 591707.268097 -0.00529415072928\n",
        "9078.65505109"
       ]
      },
      {
       "output_type": "stream",
       "stream": "stdout",
       "text": [
        " 5185.23127535 0.27295673049\n"
       ]
      }
     ],
     "prompt_number": 21
    },
    {
     "cell_type": "code",
     "collapsed": false,
     "input": [
      "print_wgt('mm')"
     ],
     "language": "python",
     "metadata": {},
     "outputs": [
      {
       "output_type": "stream",
       "stream": "stdout",
       "text": [
        "56515.8852715 56897.5186099 -0.00336497561472\n",
        "244059.276917"
       ]
      },
      {
       "output_type": "stream",
       "stream": "stdout",
       "text": [
        " 246450.255851 -0.00487448005574\n",
        "113458.035836"
       ]
      },
      {
       "output_type": "stream",
       "stream": "stdout",
       "text": [
        " 105952.698965 0.0342067897362\n"
       ]
      }
     ],
     "prompt_number": 22
    },
    {
     "cell_type": "code",
     "collapsed": false,
     "input": [
      "f1= 'ntuple/V4/sprvars-reduce/spr_pdg11/histograms/histograms.npz'\n",
      "h1= fetch_histogram(f1, mode='OffPeak', type='data')\n",
      "print h1[1].sum()\n",
      "h1_bbl= fetch_histogram(f1, mode='BB', type='bbl')\n",
      "h1_bbf= fetch_histogram(f1, mode='BB', type='bbf')\n",
      "\n",
      "f2= 'ntuple/V4/sprvars-reduce/spr_pdg11/histograms/histograms-offgen.npz'\n",
      "h2= fetch_histogram(f2, mode='OffPeak', type='gen')\n",
      "print h2[1].sum()\n",
      "\n",
      "\n",
      "plt.figure(figsize=(6,4))\n",
      "#plt.errorbar(h1[0], h1[1])\n",
      "plt.errorbar(h1_bbl[0], h1_bbl[1]+h1_bbf[1])\n",
      "plt.errorbar(h2[0], h2[1])\n",
      "#plt.yscale('log')"
     ],
     "language": "python",
     "metadata": {},
     "outputs": [
      {
       "output_type": "stream",
       "stream": "stdout",
       "text": [
        "4475429.67476\n",
        "1877954.9"
       ]
      },
      {
       "output_type": "stream",
       "stream": "stdout",
       "text": [
        "\n"
       ]
      },
      {
       "output_type": "pyout",
       "prompt_number": 39,
       "text": [
        "<Container object of 3 artists>"
       ]
      },
      {
       "output_type": "display_data",
       "png": "[encoded data removed]"
      }
     ],
     "prompt_number": 39
    },
    {
     "cell_type": "code",
     "collapsed": false,
     "input": [
      "f1= 'ntuple/V4/sprvars-reduce/spr_pdg11/histograms/histograms-noweight.npz'\n",
      "h1= fetch_histogram(f1, mode='OffPeak', type='data')\n",
      "print h1[1].sum()\n",
      "h1_bbl= fetch_histogram(f1, mode='BB', type='bbl')\n",
      "h1_bbf= fetch_histogram(f1, mode='BB', type='bbf')\n",
      "\n",
      "f2= 'ntuple/V4/sprvars-reduce/spr_pdg11/histograms/histograms-noweight-offgen.npz'\n",
      "h2= fetch_histogram(f2, mode='OffPeak', type='gen')\n",
      "print h2[1].sum()\n",
      "\n",
      "plt.figure(figsize=(6,4))\n",
      "plt.errorbar(h1[0], h1[1])\n",
      "plt.errorbar(h1_bbl[0], h1_bbl[1]+h1_bbf[1])\n",
      "plt.errorbar(h2[0], h2[1])\n",
      "#plt.yscale('log')"
     ],
     "language": "python",
     "metadata": {},
     "outputs": [
      {
       "output_type": "stream",
       "stream": "stdout",
       "text": [
        "462900.0\n",
        "19429200.0"
       ]
      },
      {
       "output_type": "stream",
       "stream": "stdout",
       "text": [
        "\n"
       ]
      },
      {
       "output_type": "pyout",
       "prompt_number": 42,
       "text": [
        "<Container object of 3 artists>"
       ]
      },
      {
       "output_type": "display_data",
       "png": "[encoded data removed]"
      }
     ],
     "prompt_number": 42
    },
    {
     "cell_type": "code",
     "collapsed": false,
     "input": [
      "import re"
     ],
     "language": "python",
     "metadata": {},
     "outputs": [],
     "prompt_number": 1
    },
    {
     "cell_type": "code",
     "collapsed": false,
     "input": [
      "x= 'a.pdf'\n",
      "y= re.sub('.pdf$','.npz', x)\n",
      "print x,y"
     ],
     "language": "python",
     "metadata": {},
     "outputs": [
      {
       "output_type": "stream",
       "stream": "stdout",
       "text": [
        "a.pdf a.npz\n"
       ]
      }
     ],
     "prompt_number": 3
    },
    {
     "cell_type": "code",
     "collapsed": false,
     "input": [
      "d = np.load('bootstrap-acp/acp-wmodel-fitnoweight.npy')"
     ],
     "language": "python",
     "metadata": {},
     "outputs": [],
     "prompt_number": 13
    },
    {
     "cell_type": "code",
     "collapsed": false,
     "input": [
      "print d"
     ],
     "language": "python",
     "metadata": {},
     "outputs": [
      {
       "output_type": "stream",
       "stream": "stdout",
       "text": [
        "[]\n"
       ]
      }
     ],
     "prompt_number": 17
    },
    {
     "cell_type": "code",
     "collapsed": false,
     "input": [
      "re.search('.pdf$',x)"
     ],
     "language": "python",
     "metadata": {},
     "outputs": [
      {
       "output_type": "pyout",
       "prompt_number": 12,
       "text": [
        "<_sre.SRE_Match at 0x105197098>"
       ]
      }
     ],
     "prompt_number": 12
    },
    {
     "cell_type": "code",
     "collapsed": false,
     "input": [
      "from RTMinuit import *"
     ],
     "language": "python",
     "metadata": {},
     "outputs": [],
     "prompt_number": 19
    },
    {
     "cell_type": "code",
     "collapsed": false,
     "input": [
      "x= np.array([1.0, 2.0,3.0])\n",
      "e= np.array([1.0,1.0,1.0])\n",
      "s= np.array([x,e])\n",
      "np.savetxt('zzz', s)"
     ],
     "language": "python",
     "metadata": {},
     "outputs": [],
     "prompt_number": 21
    },
    {
     "cell_type": "code",
     "collapsed": false,
     "input": [
      "ss = np.loadtxt('zzz')"
     ],
     "language": "python",
     "metadata": {},
     "outputs": [],
     "prompt_number": 23
    },
    {
     "cell_type": "code",
     "collapsed": false,
     "input": [
      "print ss[0]"
     ],
     "language": "python",
     "metadata": {},
     "outputs": [
      {
       "output_type": "stream",
       "stream": "stdout",
       "text": [
        "[ 1.  2.  3.]\n"
       ]
      }
     ],
     "prompt_number": 26
    },
    {
     "cell_type": "code",
     "collapsed": false,
     "input": [],
     "language": "python",
     "metadata": {},
     "outputs": []
    }
   ],
   "metadata": {}
  }
 ]
}